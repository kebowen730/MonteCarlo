{
  "cells": [
    {
      "cell_type": "code",
      "source": [
        "! ls ../"
      ],
      "outputs": [
        {
          "output_type": "stream",
          "name": "stdout",
          "text": [
            "\u001b[34mApplications\u001b[m\u001b[m              \u001b[34mcores\u001b[m\u001b[m                     \u001b[34mopt\u001b[m\u001b[m\r\n",
            "\u001b[34mLibrary\u001b[m\u001b[m                   \u001b[34mdata\u001b[m\u001b[m                      \u001b[34mprivate\u001b[m\u001b[m\r\n",
            "\u001b[34mNetwork\u001b[m\u001b[m                   \u001b[34mdev\u001b[m\u001b[m                       \u001b[34msbin\u001b[m\u001b[m\r\n",
            "\u001b[34mSystem\u001b[m\u001b[m                    \u001b[35metc\u001b[m\u001b[m                       \u001b[35mtmp\u001b[m\u001b[m\r\n",
            "\u001b[34mUsers\u001b[m\u001b[m                     \u001b[34mhome\u001b[m\u001b[m                      \u001b[34musr\u001b[m\u001b[m\r\n",
            "\u001b[34mVolumes\u001b[m\u001b[m                   installer.failurerequests \u001b[35mvar\u001b[m\u001b[m\r\n",
            "\u001b[34mbin\u001b[m\u001b[m                       \u001b[34mnet\u001b[m\u001b[m\r\n"
          ]
        }
      ],
      "execution_count": 1,
      "metadata": {
        "collapsed": false,
        "outputHidden": false,
        "inputHidden": false
      }
    },
    {
      "cell_type": "code",
      "source": [],
      "outputs": [],
      "execution_count": null,
      "metadata": {
        "collapsed": false,
        "outputHidden": false,
        "inputHidden": false
      }
    }
  ],
  "metadata": {
    "kernel_info": {
      "name": "python3"
    },
    "language_info": {
      "name": "python",
      "version": "3.6.4",
      "mimetype": "text/x-python",
      "codemirror_mode": {
        "name": "ipython",
        "version": 3
      },
      "pygments_lexer": "ipython3",
      "nbconvert_exporter": "python",
      "file_extension": ".py"
    },
    "kernelspec": {
      "name": "python3",
      "language": "python",
      "display_name": "Python 3"
    },
    "nteract": {
      "version": "0.11.9"
    }
  },
  "nbformat": 4,
  "nbformat_minor": 4
}